{
 "cells": [
  {
   "cell_type": "code",
   "execution_count": null,
   "id": "6e59820b",
   "metadata": {},
   "outputs": [],
   "source": [
    "import scanpy as sc\n",
    "import patpy\n",
    "import pandas as pd\n",
    "import numpy as np\n",
    "import seaborn as sns\n",
    "import matplotlib.pyplot as plt"
   ]
  },
  {
   "cell_type": "code",
   "execution_count": 3,
   "id": "db1e7c5d",
   "metadata": {},
   "outputs": [],
   "source": [
    "datasets = [\"combat\", \"stephenson\", \"onek1k\", \"hlca\"]\n",
    "\n",
    "sample_keys = {\n",
    "    \"combat\": \"scRNASeq_sample_ID\",\n",
    "    \"stephenson\": \"sample_id\",\n",
    "    \"onek1k\": \"donor_id\",\n",
    "    \"hlca\": \"donor_id\",\n",
    "}"
   ]
  },
  {
   "cell_type": "code",
   "execution_count": null,
   "id": "d2fb095b",
   "metadata": {},
   "outputs": [],
   "source": [
    "import time\n",
    "\n",
    "for dataset in datasets:\n",
    "    start_time = time.time()\n",
    "    print(\"Working on dataset:\", dataset)\n",
    "    layer = \"X_pca\" if dataset == \"hlca\" else \"X_scpoli\"  # HLCA doesn't have scPoli cell embeddings computed\n",
    "    \n",
    "    adata = sc.read_h5ad(f\"../data/{dataset}/{dataset}_processed.h5ad\")\n",
    "    print(adata)    \n",
    "\n",
    "    gloscope = patpy.tl.GloScope_py(sample_key=sample_keys[dataset], layer=layer, use_gpu=True)\n",
    "    gloscope.prepare_anndata(adata)\n",
    "    prior_distance_matrix = gloscope.calculate_distance_matrix(force=True)\n",
    "    prior_distance_matrix = pd.DataFrame(prior_distance_matrix, index=gloscope.samples, columns=gloscope.samples)    \n",
    "\n",
    "    adata.uns[\"gloscope_representation\"] = prior_distance_matrix\n",
    "    adata.write_h5ad(f\"../data/{dataset}/{dataset}_processed.h5ad\")\n",
    "    end_time = time.time()\n",
    "    print(f\"Time taken for {dataset}: {end_time - start_time} seconds\")\n"
   ]
  },
  {
   "cell_type": "markdown",
   "id": "0014f558",
   "metadata": {},
   "source": [
    "# Compute graph statistics for smarter subsetting of sample"
   ]
  },
  {
   "cell_type": "code",
   "execution_count": 49,
   "metadata": {},
   "outputs": [],
   "source": [
    "import cudf\n",
    "import cugraph"
   ]
  },
  {
   "cell_type": "code",
   "execution_count": null,
   "id": "9528d648",
   "metadata": {},
   "outputs": [],
   "source": [
    "for dataset in datasets:\n",
    "    print(\"Working on dataset:\", dataset)\n",
    "\n",
    "    adata = sc.read_h5ad(f\"../data/{dataset}/{dataset}_processed.h5ad\")\n",
    "\n",
    "    if \"eigenvector_centrality\" in adata.obs.columns:\n",
    "        print(\"Eigenvector centrality already computed, skipping...\")\n",
    "        continue\n",
    "    \n",
    "    sc.pp.neighbors(adata=adata, use_rep=\"X_scANVI_batch\")\n",
    "    \n",
    "    # Convert AnnData connectivities (sparse matrix) to COO\n",
    "    coo = adata.obsp['connectivities'].tocoo()\n",
    "\n",
    "    # Build cuDF edge list\n",
    "    edges = cudf.DataFrame({\n",
    "        'src': coo.row.astype(np.int32),\n",
    "        'dst': coo.col.astype(np.int32),\n",
    "        'weight': coo.data\n",
    "    })\n",
    "\n",
    "    # Create cuGraph graph (undirected for kNN)\n",
    "    G = cugraph.Graph(directed=False)\n",
    "    G.from_cudf_edgelist(edges, source='src', destination='dst', edge_attr='weight')\n",
    "\n",
    "    eig = cugraph.eigenvector_centrality(G, max_iter=1000, tol=1e-6).to_pandas().set_index('vertex')\n",
    "    adata.obs['vertex'] = np.arange(adata.n_obs)  # Create unique integer IDs because the `eig` has a different order\n",
    "    adata.obs['eigenvector_centrality'] = adata.obs['vertex'].map(eig['eigenvector_centrality']).values\n",
    "\n",
    "    ax = sns.histplot(\n",
    "        data=adata.obs,\n",
    "        x=\"eigenvector_centrality\",\n",
    "        bins=20,\n",
    "        kde=False,\n",
    "        log_scale=True,\n",
    "    )\n",
    "    plt.xlabel(\"Value\")\n",
    "    plt.ylabel(\"Frequency\")\n",
    "    plt.title(\"Distribution of Eigenvector Centrality Values for dataset: \" + dataset)\n",
    "\n",
    "    sns.despine()\n",
    "    plt.show()\n",
    "\n",
    "    adata.write_h5ad(f\"../data/{dataset}/{dataset}_processed.h5ad\")"
   ]
  }
 ],
 "metadata": {
  "kernelspec": {
   "display_name": "rapids_singlecell",
   "language": "python",
   "name": "python3"
  },
  "language_info": {
   "codemirror_mode": {
    "name": "ipython",
    "version": 3
   },
   "file_extension": ".py",
   "mimetype": "text/x-python",
   "name": "python",
   "nbconvert_exporter": "python",
   "pygments_lexer": "ipython3",
   "version": "3.11.13"
  }
 },
 "nbformat": 4,
 "nbformat_minor": 5
}
